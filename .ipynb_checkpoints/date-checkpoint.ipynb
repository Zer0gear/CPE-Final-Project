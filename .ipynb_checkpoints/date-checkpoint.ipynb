{
 "cells": [
  {
   "cell_type": "code",
   "execution_count": null,
   "metadata": {},
   "outputs": [],
   "source": [
    "%matplotlib inline"
   ]
  },
  {
   "cell_type": "markdown",
   "metadata": {},
   "source": [
    "\n",
    "# Date tick labels\n",
    "\n",
    "\n",
    "Show how to make date plots in Matplotlib using date tick locators and\n",
    "formatters.  See :doc:`/gallery/ticks_and_spines/major_minor_demo` for more\n",
    "information on controlling major and minor ticks.\n",
    "\n",
    "All Matplotlib date plotting is done by converting date instances into\n",
    "days since 0001-01-01 00:00:00 UTC plus one day (for historical reasons).\n",
    "The conversion, tick locating and formatting is done behind the scenes\n",
    "so this is most transparent to you.  The :mod:`matplotlib.dates` module\n",
    "provides the converter functions `.date2num` and `.num2date`, which convert\n",
    "`datetime.datetime` and `numpy.datetime64` objects to and from Matplotlib's\n",
    "internal representation.\n"
   ]
  },
  {
   "cell_type": "code",
   "execution_count": null,
   "metadata": {},
   "outputs": [],
   "source": [
    "import numpy as np\n",
    "import matplotlib.pyplot as plt\n",
    "import matplotlib.dates as mdates\n",
    "import matplotlib.cbook as cbook\n",
    "\n",
    "years = mdates.YearLocator()   # every year\n",
    "months = mdates.MonthLocator()  # every month\n",
    "years_fmt = mdates.DateFormatter('%Y')\n",
    "\n",
    "# Load a numpy structured array from yahoo csv data with fields date, open,\n",
    "# close, volume, adj_close from the mpl-data/example directory.  This array\n",
    "# stores the date as an np.datetime64 with a day unit ('D') in the 'date'\n",
    "# column.\n",
    "data = cbook.get_sample_data('goog.npz', np_load=True)['price_data']\n",
    "\n",
    "fig, ax = plt.subplots()\n",
    "ax.plot('date', 'adj_close', data=data)\n",
    "\n",
    "# format the ticks\n",
    "ax.xaxis.set_major_locator(years)\n",
    "ax.xaxis.set_major_formatter(years_fmt)\n",
    "ax.xaxis.set_minor_locator(months)\n",
    "\n",
    "# round to nearest years.\n",
    "datemin = np.datetime64(data['date'][0], 'Y')\n",
    "datemax = np.datetime64(data['date'][-1], 'Y') + np.timedelta64(1, 'Y')\n",
    "ax.set_xlim(datemin, datemax)\n",
    "\n",
    "# format the coords message box\n",
    "ax.format_xdata = mdates.DateFormatter('%Y-%m-%d')\n",
    "ax.format_ydata = lambda x: '$%1.2f' % x  # format the price.\n",
    "ax.grid(True)\n",
    "\n",
    "# rotates and right aligns the x labels, and moves the bottom of the\n",
    "# axes up to make room for them\n",
    "fig.autofmt_xdate()\n",
    "\n",
    "plt.show()"
   ]
  }
 ],
 "metadata": {
  "kernelspec": {
   "display_name": "Python 3",
   "language": "python",
   "name": "python3"
  },
  "language_info": {
   "codemirror_mode": {
    "name": "ipython",
    "version": 3
   },
   "file_extension": ".py",
   "mimetype": "text/x-python",
   "name": "python",
   "nbconvert_exporter": "python",
   "pygments_lexer": "ipython3",
   "version": "3.7.3"
  }
 },
 "nbformat": 4,
 "nbformat_minor": 1
}
